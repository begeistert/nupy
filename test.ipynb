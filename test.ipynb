{
 "cells": [
  {
   "cell_type": "code",
   "execution_count": 1,
   "metadata": {
    "collapsed": true
   },
   "outputs": [],
   "source": [
    "from nupy import intermediate_value, secant, fixedPoint, falsePosition"
   ]
  },
  {
   "cell_type": "code",
   "execution_count": null,
   "outputs": [],
   "source": [
    "iterations = intermediate_value(function=\"x**3-5\", variable=\"x\", intervals=[1, 2], tolerance=1e-50)\n",
    "iterations.head(15)"
   ],
   "metadata": {
    "collapsed": false,
    "pycharm": {
     "name": "#%%\n"
    }
   }
  },
  {
   "cell_type": "code",
   "execution_count": 4,
   "outputs": [
    {
     "data": {
      "text/plain": "              x_n                   f(x_n)         \n0   2.00000000000000000000  -4.00000000000000000000\n1  -0.14285714285714284921   3.00000000000000000000\n2   1.19672131147540983243  -5.00291545189504383018\n3   3.76082183925262381052  -3.28612527039708179899\n4   1.36040085871341220880  48.19224012314362681764\n5   1.47798670152936217903  -2.48231905950075626421\n6   1.77098727313217652046  -1.77141979810485095115\n7   1.70113419016820732743   0.55451726065043160929\n8   1.70966681399661690754  -0.07716000920721288736\n9   1.70997755082455449305  -0.00271123811822260308\n10  1.70997594638666128297   0.00001407168357125954\n11  1.70997594667669661206  -0.00000000254420839951\n12  1.70997594667669705615  -0.00000000000000355271",
      "text/html": "<div>\n<style scoped>\n    .dataframe tbody tr th:only-of-type {\n        vertical-align: middle;\n    }\n\n    .dataframe tbody tr th {\n        vertical-align: top;\n    }\n\n    .dataframe thead th {\n        text-align: right;\n    }\n</style>\n<table border=\"1\" class=\"dataframe\">\n  <thead>\n    <tr style=\"text-align: center;\">\n      <th></th>\n      <th>x_n</th>\n      <th>f(x_n)</th>\n    </tr>\n  </thead>\n  <tbody>\n    <tr>\n      <th>0</th>\n      <td>2.00000000000000000000</td>\n      <td>-4.00000000000000000000</td>\n    </tr>\n    <tr>\n      <th>1</th>\n      <td>-0.14285714285714284921</td>\n      <td>3.00000000000000000000</td>\n    </tr>\n    <tr>\n      <th>2</th>\n      <td>1.19672131147540983243</td>\n      <td>-5.00291545189504383018</td>\n    </tr>\n    <tr>\n      <th>3</th>\n      <td>3.76082183925262381052</td>\n      <td>-3.28612527039708179899</td>\n    </tr>\n    <tr>\n      <th>4</th>\n      <td>1.36040085871341220880</td>\n      <td>48.19224012314362681764</td>\n    </tr>\n    <tr>\n      <th>5</th>\n      <td>1.47798670152936217903</td>\n      <td>-2.48231905950075626421</td>\n    </tr>\n    <tr>\n      <th>6</th>\n      <td>1.77098727313217652046</td>\n      <td>-1.77141979810485095115</td>\n    </tr>\n    <tr>\n      <th>7</th>\n      <td>1.70113419016820732743</td>\n      <td>0.55451726065043160929</td>\n    </tr>\n    <tr>\n      <th>8</th>\n      <td>1.70966681399661690754</td>\n      <td>-0.07716000920721288736</td>\n    </tr>\n    <tr>\n      <th>9</th>\n      <td>1.70997755082455449305</td>\n      <td>-0.00271123811822260308</td>\n    </tr>\n    <tr>\n      <th>10</th>\n      <td>1.70997594638666128297</td>\n      <td>0.00001407168357125954</td>\n    </tr>\n    <tr>\n      <th>11</th>\n      <td>1.70997594667669661206</td>\n      <td>-0.00000000254420839951</td>\n    </tr>\n    <tr>\n      <th>12</th>\n      <td>1.70997594667669705615</td>\n      <td>-0.00000000000000355271</td>\n    </tr>\n  </tbody>\n</table>\n</div>"
     },
     "execution_count": 4,
     "metadata": {},
     "output_type": "execute_result"
    }
   ],
   "source": [
    "iterations = secant(function=\"x**3-5\", variable=\"x\", intervals=[1, 2], tolerance=1e-60)\n",
    "iterations.head(15)"
   ],
   "metadata": {
    "collapsed": false,
    "pycharm": {
     "name": "#%%\n"
    }
   }
  },
  {
   "cell_type": "code",
   "execution_count": 8,
   "outputs": [
    {
     "data": {
      "text/plain": "             x_n                   f(x_n)        \n0  1.00000000000000000000  2.33333333333333348136\n1  2.33333333333333348136  1.86167800453514753478\n2  1.86167800453514753478  1.72200188005860699292\n3  1.72200188005860699292  1.71005973660029453320\n4  1.71005973660029453320  1.70997595078218900255\n5  1.70997595078218900255  1.70997594667669705615\n6  1.70997594667669705615  1.70997594667669705615",
      "text/html": "<div>\n<style scoped>\n    .dataframe tbody tr th:only-of-type {\n        vertical-align: middle;\n    }\n\n    .dataframe tbody tr th {\n        vertical-align: top;\n    }\n\n    .dataframe thead th {\n        text-align: right;\n    }\n</style>\n<table border=\"1\" class=\"dataframe\">\n  <thead>\n    <tr style=\"text-align: center;\">\n      <th></th>\n      <th>x_n</th>\n      <th>f(x_n)</th>\n    </tr>\n  </thead>\n  <tbody>\n    <tr>\n      <th>0</th>\n      <td>1.00000000000000000000</td>\n      <td>2.33333333333333348136</td>\n    </tr>\n    <tr>\n      <th>1</th>\n      <td>2.33333333333333348136</td>\n      <td>1.86167800453514753478</td>\n    </tr>\n    <tr>\n      <th>2</th>\n      <td>1.86167800453514753478</td>\n      <td>1.72200188005860699292</td>\n    </tr>\n    <tr>\n      <th>3</th>\n      <td>1.72200188005860699292</td>\n      <td>1.71005973660029453320</td>\n    </tr>\n    <tr>\n      <th>4</th>\n      <td>1.71005973660029453320</td>\n      <td>1.70997595078218900255</td>\n    </tr>\n    <tr>\n      <th>5</th>\n      <td>1.70997595078218900255</td>\n      <td>1.70997594667669705615</td>\n    </tr>\n    <tr>\n      <th>6</th>\n      <td>1.70997594667669705615</td>\n      <td>1.70997594667669705615</td>\n    </tr>\n  </tbody>\n</table>\n</div>"
     },
     "execution_count": 8,
     "metadata": {},
     "output_type": "execute_result"
    }
   ],
   "source": [
    "iterations = fixedPoint(function=\"x**3-5\", variable=\"x\", intervals=[1, 2], tolerance=1e-60)\n",
    "iterations.head(15)"
   ],
   "metadata": {
    "collapsed": false,
    "pycharm": {
     "name": "#%%\n"
    }
   }
  },
  {
   "cell_type": "code",
   "execution_count": 5,
   "outputs": [
    {
     "data": {
      "text/plain": "1.709975946676697"
     },
     "execution_count": 5,
     "metadata": {},
     "output_type": "execute_result"
    }
   ],
   "source": [
    "root = fixedPoint(function=\"x**3-5\", variable=\"x\", intervals=[1, 2], tolerance=1e-60, just_root=True)\n",
    "root"
   ],
   "metadata": {
    "collapsed": false,
    "pycharm": {
     "name": "#%%\n"
    }
   }
  },
  {
   "cell_type": "code",
   "execution_count": 6,
   "outputs": [
    {
     "data": {
      "text/plain": "1.709975946676697"
     },
     "execution_count": 6,
     "metadata": {},
     "output_type": "execute_result"
    }
   ],
   "source": [
    "root = intermediate_value(function=\"x**3-5\", variable=\"x\", intervals=[1, 2], tolerance=1e-50, just_root=True)\n",
    "root"
   ],
   "metadata": {
    "collapsed": false,
    "pycharm": {
     "name": "#%%\n"
    }
   }
  },
  {
   "cell_type": "code",
   "execution_count": 7,
   "outputs": [
    {
     "data": {
      "text/plain": "1.709975946676697"
     },
     "execution_count": 7,
     "metadata": {},
     "output_type": "execute_result"
    }
   ],
   "source": [
    "root = secant(function=\"x**3-5\", variable=\"x\", intervals=[1, 2], tolerance=1e-60, just_root=True)\n",
    "root"
   ],
   "metadata": {
    "collapsed": false,
    "pycharm": {
     "name": "#%%\n"
    }
   }
  },
  {
   "cell_type": "code",
   "execution_count": 2,
   "outputs": [
    {
     "data": {
      "text/plain": "1.709975946676697"
     },
     "execution_count": 2,
     "metadata": {},
     "output_type": "execute_result"
    }
   ],
   "source": [
    "root = falsePosition(function=\"x**3-5\", variable=\"x\", intervals=[1, 2], tolerance=1e-60, just_root=True)\n",
    "root\n"
   ],
   "metadata": {
    "collapsed": false,
    "pycharm": {
     "name": "#%%\n"
    }
   }
  }
 ],
 "metadata": {
  "kernelspec": {
   "display_name": "Python 3",
   "language": "python",
   "name": "python3"
  },
  "language_info": {
   "codemirror_mode": {
    "name": "ipython",
    "version": 2
   },
   "file_extension": ".py",
   "mimetype": "text/x-python",
   "name": "python",
   "nbconvert_exporter": "python",
   "pygments_lexer": "ipython2",
   "version": "2.7.6"
  }
 },
 "nbformat": 4,
 "nbformat_minor": 0
}